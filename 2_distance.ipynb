{
 "cells": [
  {
   "cell_type": "code",
   "execution_count": 1,
   "metadata": {},
   "outputs": [
    {
     "name": "stdout",
     "output_type": "stream",
     "text": [
      "Distance: 1.4142135623730951\n"
     ]
    }
   ],
   "source": [
    "'''To calculate the distance between a point and a line.'''\n",
    "\n",
    "import numpy as np\n",
    "\n",
    "def point_line(point, line_point1, line_point2):\n",
    "    point = np.array(point)\n",
    "    line_point1 = np.array(line_point1)\n",
    "    line_point2 = np.array(line_point2)\n",
    "\n",
    "    line_vector = line_point2 - line_point1\n",
    "    point_vector = point - line_point1\n",
    "    projection = np.dot(point_vector, line_vector) / np.dot(line_vector, line_vector)\n",
    "\n",
    "    projected_point = line_point1 + projection * line_vector\n",
    "\n",
    "    distance = np.linalg.norm(point - projected_point)\n",
    "\n",
    "    return distance\n",
    "\n",
    "# Example\n",
    "point = (1, 2, 3)\n",
    "line_point1 = (0, 0, 0)\n",
    "line_point2 = (1, 1, 1)\n",
    "\n",
    "distance = point_line(point, line_point1, line_point2)\n",
    "print(\"Distance:\", distance)"
   ]
  },
  {
   "cell_type": "code",
   "execution_count": 2,
   "metadata": {},
   "outputs": [
    {
     "name": "stdout",
     "output_type": "stream",
     "text": [
      "1.4142135623730951\n"
     ]
    }
   ],
   "source": [
    "'''To calculate the distance between two lines.'''\n",
    "\n",
    "def line_line(line1_point1, line1_point2, line2_point1, line2_point2):\n",
    "    # Convert points to numpy arrays\n",
    "    line1_point1 = np.array(line1_point1)\n",
    "    line1_point2 = np.array(line1_point2)\n",
    "    line2_point1 = np.array(line2_point1)\n",
    "    line2_point2 = np.array(line2_point2)\n",
    "\n",
    "    line1_direction = line1_point2 - line1_point1\n",
    "    line2_direction = line2_point2 - line2_point1\n",
    "\n",
    "    cross_product = np.cross(line1_direction, line2_direction)\n",
    "\n",
    "    # If the cross product is a zero vector, the lines are parallel\n",
    "    if np.linalg.norm(cross_product) == 0:\n",
    "        return point_line(line1_point1, line2_point1, line2_point2)\n",
    "    \n",
    "    connecting_vector = line2_point1 - line1_point1\n",
    "\n",
    "    shortest_distance = abs(np.dot(connecting_vector, cross_product)) / np.linalg.norm(cross_product)\n",
    "    \n",
    "    return shortest_distance\n",
    "\n",
    "\n",
    "# Example\n",
    "line1_point1 = (1, 0, 0)\n",
    "line1_point2 = (1, 1, 0)\n",
    "line2_point1 = (0, 0, 1)\n",
    "line2_point2 = (0, 1, 1)\n",
    "\n",
    "shortest_distance = line_line(line1_point1, line1_point2, line2_point1, line2_point2)\n",
    "print(\"Distance:\", shortest_distance)"
   ]
  },
  {
   "cell_type": "code",
   "execution_count": null,
   "metadata": {},
   "outputs": [],
   "source": []
  }
 ],
 "metadata": {
  "kernelspec": {
   "display_name": "base",
   "language": "python",
   "name": "python3"
  },
  "language_info": {
   "codemirror_mode": {
    "name": "ipython",
    "version": 3
   },
   "file_extension": ".py",
   "mimetype": "text/x-python",
   "name": "python",
   "nbconvert_exporter": "python",
   "pygments_lexer": "ipython3",
   "version": "3.8.5"
  },
  "orig_nbformat": 4
 },
 "nbformat": 4,
 "nbformat_minor": 2
}
